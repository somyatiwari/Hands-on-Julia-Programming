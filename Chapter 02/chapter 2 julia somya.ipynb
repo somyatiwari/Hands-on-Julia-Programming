{
 "cells": [
  {
   "cell_type": "markdown",
   "id": "f77580c0",
   "metadata": {},
   "source": [
    "# chapter 2"
   ]
  },
  {
   "cell_type": "code",
   "execution_count": 4,
   "id": "04b2c82e",
   "metadata": {},
   "outputs": [
    {
     "data": {
      "text/plain": [
       "5"
      ]
     },
     "execution_count": 4,
     "metadata": {},
     "output_type": "execute_result"
    }
   ],
   "source": [
    "a=5"
   ]
  },
  {
   "cell_type": "code",
   "execution_count": 2,
   "id": "817ed24b",
   "metadata": {},
   "outputs": [
    {
     "data": {
      "text/plain": [
       "2"
      ]
     },
     "execution_count": 2,
     "metadata": {},
     "output_type": "execute_result"
    }
   ],
   "source": [
    "abc=2"
   ]
  },
  {
   "cell_type": "code",
   "execution_count": 3,
   "id": "254f83b0",
   "metadata": {},
   "outputs": [
    {
     "ename": "LoadError",
     "evalue": "syntax: \"1\" is not a valid function argument name around In[3]:1",
     "output_type": "error",
     "traceback": [
      "syntax: \"1\" is not a valid function argument name around In[3]:1",
      "",
      "Stacktrace:",
      " [1] top-level scope",
      "   @ In[3]:1",
      " [2] eval",
      "   @ .\\boot.jl:360 [inlined]",
      " [3] include_string(mapexpr::typeof(REPL.softscope), mod::Module, code::String, filename::String)",
      "   @ Base .\\loading.jl:1116"
     ]
    }
   ],
   "source": [
    "1bcs=2"
   ]
  },
  {
   "cell_type": "code",
   "execution_count": 4,
   "id": "1e78675d",
   "metadata": {},
   "outputs": [
    {
     "data": {
      "text/plain": [
       "2"
      ]
     },
     "execution_count": 4,
     "metadata": {},
     "output_type": "execute_result"
    }
   ],
   "source": [
    "πr=2\n"
   ]
  },
  {
   "cell_type": "code",
   "execution_count": 5,
   "id": "a3529581",
   "metadata": {},
   "outputs": [
    {
     "data": {
      "text/plain": [
       "4"
      ]
     },
     "execution_count": 5,
     "metadata": {},
     "output_type": "execute_result"
    }
   ],
   "source": [
    "xπe=4"
   ]
  },
  {
   "cell_type": "code",
   "execution_count": 6,
   "id": "8446a7d2",
   "metadata": {},
   "outputs": [
    {
     "data": {
      "text/plain": [
       "10"
      ]
     },
     "execution_count": 6,
     "metadata": {},
     "output_type": "execute_result"
    }
   ],
   "source": [
    "function f()\n",
    "     i::Int=10\n",
    "    return i\n",
    "end\n",
    "f()"
   ]
  },
  {
   "cell_type": "code",
   "execution_count": 7,
   "id": "813d9c56",
   "metadata": {},
   "outputs": [
    {
     "data": {
      "text/plain": [
       "f (generic function with 1 method)"
      ]
     },
     "execution_count": 7,
     "metadata": {},
     "output_type": "execute_result"
    }
   ],
   "source": [
    "function f()\n",
    "    i\n",
    "    return i\n",
    "end"
   ]
  },
  {
   "cell_type": "code",
   "execution_count": 8,
   "id": "97b49944",
   "metadata": {},
   "outputs": [
    {
     "ename": "LoadError",
     "evalue": "UndefVarError: i not defined",
     "output_type": "error",
     "traceback": [
      "UndefVarError: i not defined",
      "",
      "Stacktrace:",
      " [1] f()",
      "   @ Main .\\In[7]:2",
      " [2] top-level scope",
      "   @ In[8]:1",
      " [3] eval",
      "   @ .\\boot.jl:360 [inlined]",
      " [4] include_string(mapexpr::typeof(REPL.softscope), mod::Module, code::String, filename::String)",
      "   @ Base .\\loading.jl:1116"
     ]
    }
   ],
   "source": [
    "f()"
   ]
  },
  {
   "cell_type": "code",
   "execution_count": 9,
   "id": "5c967ea4",
   "metadata": {},
   "outputs": [
    {
     "data": {
      "text/plain": [
       "1"
      ]
     },
     "execution_count": 9,
     "metadata": {},
     "output_type": "execute_result"
    }
   ],
   "source": [
    "const IcosnTant=1"
   ]
  },
  {
   "cell_type": "code",
   "execution_count": 10,
   "id": "b6ab0327",
   "metadata": {},
   "outputs": [
    {
     "data": {
      "text/plain": [
       "7"
      ]
     },
     "execution_count": 10,
     "metadata": {},
     "output_type": "execute_result"
    }
   ],
   "source": [
    "IconsTant=7\n"
   ]
  },
  {
   "cell_type": "code",
   "execution_count": 11,
   "id": "d0b096f9",
   "metadata": {},
   "outputs": [
    {
     "data": {
      "text/plain": [
       "7"
      ]
     },
     "execution_count": 11,
     "metadata": {},
     "output_type": "execute_result"
    }
   ],
   "source": [
    "IconsTant"
   ]
  },
  {
   "cell_type": "code",
   "execution_count": 12,
   "id": "2be07583",
   "metadata": {},
   "outputs": [
    {
     "data": {
      "text/plain": [
       "4"
      ]
     },
     "execution_count": 12,
     "metadata": {},
     "output_type": "execute_result"
    }
   ],
   "source": [
    "4"
   ]
  },
  {
   "cell_type": "code",
   "execution_count": 13,
   "id": "a245cc0f",
   "metadata": {},
   "outputs": [
    {
     "data": {
      "text/plain": [
       "4.0"
      ]
     },
     "execution_count": 13,
     "metadata": {},
     "output_type": "execute_result"
    }
   ],
   "source": [
    "4.0"
   ]
  },
  {
   "cell_type": "code",
   "execution_count": 14,
   "id": "5ec72eaa",
   "metadata": {},
   "outputs": [
    {
     "data": {
      "text/plain": [
       "4.0f0"
      ]
     },
     "execution_count": 14,
     "metadata": {},
     "output_type": "execute_result"
    }
   ],
   "source": [
    "4f0"
   ]
  },
  {
   "cell_type": "code",
   "execution_count": 2,
   "id": "ba65bc36",
   "metadata": {},
   "outputs": [
    {
     "data": {
      "text/plain": [
       "\"somya tiwari\""
      ]
     },
     "execution_count": 2,
     "metadata": {},
     "output_type": "execute_result"
    }
   ],
   "source": [
    "\"somya tiwari\""
   ]
  },
  {
   "cell_type": "code",
   "execution_count": 3,
   "id": "0b355738",
   "metadata": {},
   "outputs": [
    {
     "data": {
      "text/plain": [
       "'u': ASCII/Unicode U+0075 (category Ll: Letter, lowercase)"
      ]
     },
     "execution_count": 3,
     "metadata": {},
     "output_type": "execute_result"
    }
   ],
   "source": [
    "'u'"
   ]
  },
  {
   "cell_type": "code",
   "execution_count": 17,
   "id": "54e67f54",
   "metadata": {},
   "outputs": [
    {
     "data": {
      "text/plain": [
       "3"
      ]
     },
     "execution_count": 17,
     "metadata": {},
     "output_type": "execute_result"
    }
   ],
   "source": [
    "i=3"
   ]
  },
  {
   "cell_type": "code",
   "execution_count": 18,
   "id": "3345b393",
   "metadata": {},
   "outputs": [
    {
     "data": {
      "text/plain": [
       "4"
      ]
     },
     "execution_count": 18,
     "metadata": {},
     "output_type": "execute_result"
    }
   ],
   "source": [
    "a=4"
   ]
  },
  {
   "cell_type": "code",
   "execution_count": 19,
   "id": "46e08894",
   "metadata": {},
   "outputs": [
    {
     "data": {
      "text/plain": [
       "(4, 3)"
      ]
     },
     "execution_count": 19,
     "metadata": {},
     "output_type": "execute_result"
    }
   ],
   "source": [
    "i,a=a,i"
   ]
  },
  {
   "cell_type": "code",
   "execution_count": 20,
   "id": "c8a24277",
   "metadata": {},
   "outputs": [
    {
     "data": {
      "text/plain": [
       "4"
      ]
     },
     "execution_count": 20,
     "metadata": {},
     "output_type": "execute_result"
    }
   ],
   "source": [
    "i"
   ]
  },
  {
   "cell_type": "code",
   "execution_count": 21,
   "id": "c9f3a295",
   "metadata": {},
   "outputs": [
    {
     "data": {
      "text/plain": [
       "3"
      ]
     },
     "execution_count": 21,
     "metadata": {},
     "output_type": "execute_result"
    }
   ],
   "source": [
    "a"
   ]
  },
  {
   "cell_type": "code",
   "execution_count": 22,
   "id": "4cd5908f",
   "metadata": {},
   "outputs": [
    {
     "data": {
      "text/plain": [
       "(2, 7)"
      ]
     },
     "execution_count": 22,
     "metadata": {},
     "output_type": "execute_result"
    }
   ],
   "source": [
    "a=(2,7)"
   ]
  },
  {
   "cell_type": "code",
   "execution_count": 23,
   "id": "27b8f158",
   "metadata": {},
   "outputs": [
    {
     "data": {
      "text/plain": [
       "Tuple{Int64, Int64}"
      ]
     },
     "execution_count": 23,
     "metadata": {},
     "output_type": "execute_result"
    }
   ],
   "source": [
    "typeof(a)"
   ]
  },
  {
   "cell_type": "code",
   "execution_count": 24,
   "id": "0b8283c4",
   "metadata": {},
   "outputs": [
    {
     "data": {
      "text/plain": [
       "(1, 2)"
      ]
     },
     "execution_count": 24,
     "metadata": {},
     "output_type": "execute_result"
    }
   ],
   "source": [
    "i,j=1,2"
   ]
  },
  {
   "cell_type": "code",
   "execution_count": 25,
   "id": "0896af3a",
   "metadata": {},
   "outputs": [
    {
     "data": {
      "text/plain": [
       "1"
      ]
     },
     "execution_count": 25,
     "metadata": {},
     "output_type": "execute_result"
    }
   ],
   "source": [
    "i"
   ]
  },
  {
   "cell_type": "code",
   "execution_count": 26,
   "id": "de58d284",
   "metadata": {},
   "outputs": [
    {
     "data": {
      "text/plain": [
       "2"
      ]
     },
     "execution_count": 26,
     "metadata": {},
     "output_type": "execute_result"
    }
   ],
   "source": [
    "j"
   ]
  },
  {
   "cell_type": "code",
   "execution_count": 27,
   "id": "6a371d3f",
   "metadata": {},
   "outputs": [
    {
     "data": {
      "text/plain": [
       "(1, 2)"
      ]
     },
     "execution_count": 27,
     "metadata": {},
     "output_type": "execute_result"
    }
   ],
   "source": [
    "i=1,2"
   ]
  },
  {
   "cell_type": "code",
   "execution_count": 28,
   "id": "dc418e82",
   "metadata": {},
   "outputs": [
    {
     "data": {
      "text/plain": [
       "(1, 2)"
      ]
     },
     "execution_count": 28,
     "metadata": {},
     "output_type": "execute_result"
    }
   ],
   "source": [
    "i,=1,2"
   ]
  },
  {
   "cell_type": "code",
   "execution_count": 29,
   "id": "0e560fe5",
   "metadata": {},
   "outputs": [
    {
     "data": {
      "text/plain": [
       "1"
      ]
     },
     "execution_count": 29,
     "metadata": {},
     "output_type": "execute_result"
    }
   ],
   "source": [
    "i"
   ]
  },
  {
   "cell_type": "code",
   "execution_count": 30,
   "id": "fba43af2",
   "metadata": {},
   "outputs": [
    {
     "data": {
      "text/plain": [
       "(5, 6, 7)"
      ]
     },
     "execution_count": 30,
     "metadata": {},
     "output_type": "execute_result"
    }
   ],
   "source": [
    "a,b=5,6,7"
   ]
  },
  {
   "cell_type": "code",
   "execution_count": 31,
   "id": "a09c73da",
   "metadata": {},
   "outputs": [
    {
     "data": {
      "text/plain": [
       "5"
      ]
     },
     "execution_count": 31,
     "metadata": {},
     "output_type": "execute_result"
    }
   ],
   "source": [
    "a"
   ]
  },
  {
   "cell_type": "code",
   "execution_count": 32,
   "id": "eac84f76",
   "metadata": {},
   "outputs": [
    {
     "data": {
      "text/plain": [
       "6"
      ]
     },
     "execution_count": 32,
     "metadata": {},
     "output_type": "execute_result"
    }
   ],
   "source": [
    "b"
   ]
  },
  {
   "cell_type": "code",
   "execution_count": 33,
   "id": "5792b762",
   "metadata": {},
   "outputs": [
    {
     "data": {
      "text/plain": [
       "Nothing"
      ]
     },
     "execution_count": 33,
     "metadata": {},
     "output_type": "execute_result"
    }
   ],
   "source": [
    "typeof(nothing)"
   ]
  },
  {
   "cell_type": "code",
   "execution_count": 34,
   "id": "794d1f7c",
   "metadata": {},
   "outputs": [
    {
     "data": {
      "text/plain": [
       "Nothing"
      ]
     },
     "execution_count": 34,
     "metadata": {},
     "output_type": "execute_result"
    }
   ],
   "source": [
    "a=nothing\n",
    "i=7\n",
    "if i<7\n",
    "    a=7\n",
    "end\n",
    "5\n",
    "typeof(a)\n"
   ]
  },
  {
   "cell_type": "code",
   "execution_count": 35,
   "id": "06afcd5a",
   "metadata": {},
   "outputs": [
    {
     "data": {
      "text/plain": [
       "Int64"
      ]
     },
     "execution_count": 35,
     "metadata": {},
     "output_type": "execute_result"
    }
   ],
   "source": [
    "typeof(1)"
   ]
  },
  {
   "cell_type": "code",
   "execution_count": 36,
   "id": "b32860ea",
   "metadata": {},
   "outputs": [
    {
     "data": {
      "text/plain": [
       "(UInt8, UInt8, UInt8)"
      ]
     },
     "execution_count": 36,
     "metadata": {},
     "output_type": "execute_result"
    }
   ],
   "source": [
    "typeof(0b1), typeof(0o7), typeof(0xff)\n"
   ]
  },
  {
   "cell_type": "code",
   "execution_count": 37,
   "id": "1f54b303",
   "metadata": {},
   "outputs": [
    {
     "data": {
      "text/plain": [
       "(UInt8, UInt16, UInt32, UInt64, UInt128)"
      ]
     },
     "execution_count": 37,
     "metadata": {},
     "output_type": "execute_result"
    }
   ],
   "source": [
    "typeof(0xf),typeof(0xfff),typeof(0xfffff),typeof(0xfffffffff),typeof(0xffffffffffffffffff)"
   ]
  },
  {
   "cell_type": "code",
   "execution_count": 38,
   "id": "64f16061",
   "metadata": {},
   "outputs": [
    {
     "data": {
      "text/plain": [
       "(Float64, Float64, Float64)"
      ]
     },
     "execution_count": 38,
     "metadata": {},
     "output_type": "execute_result"
    }
   ],
   "source": [
    "typeof(1.0),typeof(1e0),typeof(1.e4)"
   ]
  },
  {
   "cell_type": "code",
   "execution_count": 39,
   "id": "0bb9e20c",
   "metadata": {},
   "outputs": [
    {
     "data": {
      "text/plain": [
       "(Float32, Float32, Float32)"
      ]
     },
     "execution_count": 39,
     "metadata": {},
     "output_type": "execute_result"
    }
   ],
   "source": [
    "typeof(1.0f0), typeof(1f-6), typeof(1.f4)"
   ]
  },
  {
   "cell_type": "code",
   "execution_count": 40,
   "id": "dd4db0d7",
   "metadata": {},
   "outputs": [],
   "source": [
    "abstract type MyAbstractType end\n",
    "struct MyConcreteType <: MyAbstractType\n",
    "    member\n",
    "end"
   ]
  },
  {
   "cell_type": "code",
   "execution_count": 41,
   "id": "818c6dc6",
   "metadata": {},
   "outputs": [
    {
     "data": {
      "text/plain": [
       "MyConcreteType(8)"
      ]
     },
     "execution_count": 41,
     "metadata": {},
     "output_type": "execute_result"
    }
   ],
   "source": [
    "a = MyConcreteType(8)"
   ]
  },
  {
   "cell_type": "code",
   "execution_count": 42,
   "id": "e2d3ae59",
   "metadata": {},
   "outputs": [
    {
     "data": {
      "text/plain": [
       "true"
      ]
     },
     "execution_count": 42,
     "metadata": {},
     "output_type": "execute_result"
    }
   ],
   "source": [
    "a isa MyAbstractType"
   ]
  },
  {
   "cell_type": "code",
   "execution_count": 43,
   "id": "b4df621c",
   "metadata": {},
   "outputs": [
    {
     "ename": "LoadError",
     "evalue": "InexactError: UInt32(0.3)",
     "output_type": "error",
     "traceback": [
      "InexactError: UInt32(0.3)",
      "",
      "Stacktrace:",
      " [1] UInt32(x::Float32)",
      "   @ Base .\\float.jl:702",
      " [2] top-level scope",
      "   @ In[43]:1",
      " [3] eval",
      "   @ .\\boot.jl:360 [inlined]",
      " [4] include_string(mapexpr::typeof(REPL.softscope), mod::Module, code::String, filename::String)",
      "   @ Base .\\loading.jl:1116"
     ]
    }
   ],
   "source": [
    "UInt32(3f-1)"
   ]
  },
  {
   "cell_type": "code",
   "execution_count": 44,
   "id": "2291622f",
   "metadata": {},
   "outputs": [],
   "source": [
    "primitive type MyType1 40 end"
   ]
  },
  {
   "cell_type": "code",
   "execution_count": 45,
   "id": "ea8d3ab5",
   "metadata": {},
   "outputs": [
    {
     "ename": "LoadError",
     "evalue": "invalid number of bits in primitive type MyType2",
     "output_type": "error",
     "traceback": [
      "invalid number of bits in primitive type MyType2",
      "",
      "Stacktrace:",
      " [1] top-level scope",
      "   @ In[45]:1",
      " [2] eval",
      "   @ .\\boot.jl:360 [inlined]",
      " [3] include_string(mapexpr::typeof(REPL.softscope), mod::Module, code::String, filename::String)",
      "   @ Base .\\loading.jl:1116"
     ]
    }
   ],
   "source": [
    "primitive type MyType2 4 end"
   ]
  },
  {
   "cell_type": "code",
   "execution_count": 46,
   "id": "5b7d1406",
   "metadata": {},
   "outputs": [
    {
     "data": {
      "text/plain": [
       "56"
      ]
     },
     "execution_count": 46,
     "metadata": {},
     "output_type": "execute_result"
    }
   ],
   "source": [
    "a=56"
   ]
  },
  {
   "cell_type": "code",
   "execution_count": 47,
   "id": "0b5ef44c",
   "metadata": {},
   "outputs": [
    {
     "data": {
      "text/plain": [
       "true"
      ]
     },
     "execution_count": 47,
     "metadata": {},
     "output_type": "execute_result"
    }
   ],
   "source": [
    "isbits(a)"
   ]
  },
  {
   "cell_type": "code",
   "execution_count": 48,
   "id": "8eda1a0b",
   "metadata": {},
   "outputs": [
    {
     "data": {
      "text/plain": [
       "true"
      ]
     },
     "execution_count": 48,
     "metadata": {},
     "output_type": "execute_result"
    }
   ],
   "source": [
    "isbitstype(Int)"
   ]
  },
  {
   "cell_type": "code",
   "execution_count": 49,
   "id": "dc41f705",
   "metadata": {},
   "outputs": [],
   "source": [
    "mutable struct MRectangle\n",
    "    h::Float64\n",
    "    w::Float64\n",
    "end"
   ]
  },
  {
   "cell_type": "code",
   "execution_count": 50,
   "id": "acb03cc7",
   "metadata": {},
   "outputs": [
    {
     "data": {
      "text/plain": [
       "MRectangle(10.0, 20.0)"
      ]
     },
     "execution_count": 50,
     "metadata": {},
     "output_type": "execute_result"
    }
   ],
   "source": [
    "Mr = MRectangle(10.0, 20.0)"
   ]
  },
  {
   "cell_type": "code",
   "execution_count": 51,
   "id": "b9c69b3d",
   "metadata": {},
   "outputs": [
    {
     "data": {
      "text/plain": [
       "17.0"
      ]
     },
     "execution_count": 51,
     "metadata": {},
     "output_type": "execute_result"
    }
   ],
   "source": [
    "Mr.h = 17.0"
   ]
  },
  {
   "cell_type": "code",
   "execution_count": 52,
   "id": "0e585793",
   "metadata": {},
   "outputs": [
    {
     "data": {
      "text/plain": [
       "MRectangle(17.0, 20.0)"
      ]
     },
     "execution_count": 52,
     "metadata": {},
     "output_type": "execute_result"
    }
   ],
   "source": [
    "Mr"
   ]
  },
  {
   "cell_type": "code",
   "execution_count": 53,
   "id": "cdbb1cd0",
   "metadata": {},
   "outputs": [],
   "source": [
    "abstract type Shape end\n",
    "struct Rectangle1 <: Shape\n",
    "    w::Float64\n",
    "    h::Float64\n",
    "end\n",
    "struct Square <: Shape\n",
    "    l::Float64\n",
    "end"
   ]
  },
  {
   "cell_type": "code",
   "execution_count": 54,
   "id": "8ef6bf30",
   "metadata": {},
   "outputs": [],
   "source": [
    "mutable struct B\n",
    "    member\n",
    "end"
   ]
  },
  {
   "cell_type": "code",
   "execution_count": 55,
   "id": "e369ef98",
   "metadata": {},
   "outputs": [
    {
     "data": {
      "text/plain": [
       "B(5)"
      ]
     },
     "execution_count": 55,
     "metadata": {},
     "output_type": "execute_result"
    }
   ],
   "source": [
    "b=B(5)"
   ]
  },
  {
   "cell_type": "code",
   "execution_count": 56,
   "id": "c0df6ef2",
   "metadata": {},
   "outputs": [
    {
     "data": {
      "text/plain": [
       "Int64"
      ]
     },
     "execution_count": 56,
     "metadata": {},
     "output_type": "execute_result"
    }
   ],
   "source": [
    "typeof(b.member)"
   ]
  },
  {
   "cell_type": "code",
   "execution_count": 57,
   "id": "41dae18c",
   "metadata": {},
   "outputs": [
    {
     "data": {
      "text/plain": [
       "B(\"String\")"
      ]
     },
     "execution_count": 57,
     "metadata": {},
     "output_type": "execute_result"
    }
   ],
   "source": [
    "a1=B(\"String\")"
   ]
  },
  {
   "cell_type": "code",
   "execution_count": 58,
   "id": "011397cc",
   "metadata": {},
   "outputs": [
    {
     "data": {
      "text/plain": [
       "String"
      ]
     },
     "execution_count": 58,
     "metadata": {},
     "output_type": "execute_result"
    }
   ],
   "source": [
    "typeof(a1.member)"
   ]
  },
  {
   "cell_type": "code",
   "execution_count": 59,
   "id": "5d5d6968",
   "metadata": {},
   "outputs": [
    {
     "data": {
      "text/plain": [
       "\"string\""
      ]
     },
     "execution_count": 59,
     "metadata": {},
     "output_type": "execute_result"
    }
   ],
   "source": [
    "b.member = \"string\""
   ]
  },
  {
   "cell_type": "code",
   "execution_count": 60,
   "id": "b07385dd",
   "metadata": {},
   "outputs": [
    {
     "data": {
      "text/plain": [
       "String"
      ]
     },
     "execution_count": 60,
     "metadata": {},
     "output_type": "execute_result"
    }
   ],
   "source": [
    "typeof(b.member)"
   ]
  },
  {
   "cell_type": "code",
   "execution_count": 61,
   "id": "b0b30151",
   "metadata": {},
   "outputs": [
    {
     "ename": "LoadError",
     "evalue": "TypeError: in Rational, in T, expected T<:Integer, got Type{Any}",
     "output_type": "error",
     "traceback": [
      "TypeError: in Rational, in T, expected T<:Integer, got Type{Any}",
      "",
      "Stacktrace:",
      " [1] top-level scope",
      "   @ In[61]:1",
      " [2] eval",
      "   @ .\\boot.jl:360 [inlined]",
      " [3] include_string(mapexpr::typeof(REPL.softscope), mod::Module, code::String, filename::String)",
      "   @ Base .\\loading.jl:1116"
     ]
    }
   ],
   "source": [
    "Rational{Any}"
   ]
  },
  {
   "cell_type": "code",
   "execution_count": 62,
   "id": "c213f41d",
   "metadata": {},
   "outputs": [
    {
     "data": {
      "text/plain": [
       "true"
      ]
     },
     "execution_count": 62,
     "metadata": {},
     "output_type": "execute_result"
    }
   ],
   "source": [
    "Rational{Int32} <: Rational"
   ]
  },
  {
   "cell_type": "code",
   "execution_count": 63,
   "id": "b650ea72",
   "metadata": {},
   "outputs": [
    {
     "data": {
      "text/plain": [
       "false"
      ]
     },
     "execution_count": 63,
     "metadata": {},
     "output_type": "execute_result"
    }
   ],
   "source": [
    "Rational{Int32} <: Rational{Integer}"
   ]
  },
  {
   "cell_type": "code",
   "execution_count": 64,
   "id": "8cec92c3",
   "metadata": {},
   "outputs": [],
   "source": [
    "abstract type ShapeParametric{T<:AbstractFloat} end"
   ]
  },
  {
   "cell_type": "code",
   "execution_count": 65,
   "id": "738470cd",
   "metadata": {},
   "outputs": [],
   "source": [
    "struct RectangleParametric{T<:AbstractFloat} <: ShapeParametric{T}\n",
    "     w::T\n",
    "     h::T\n",
    "end\n",
    "struct SquareParametric{T<:AbstractFloat} <: ShapeParametric{T}\n",
    "    s::T\n",
    "end"
   ]
  },
  {
   "cell_type": "code",
   "execution_count": 66,
   "id": "153480cf",
   "metadata": {},
   "outputs": [
    {
     "data": {
      "text/plain": [
       "Point{Float32, 2}(Float32[1.0, 2.0])"
      ]
     },
     "execution_count": 66,
     "metadata": {},
     "output_type": "execute_result"
    }
   ],
   "source": [
    "struct Point{T<:AbstractFloat, N}\n",
    "    x::Vector{T}\n",
    "end\n",
    "p = Point{Float32, 2}([1f0, 2f0])"
   ]
  },
  {
   "cell_type": "code",
   "execution_count": 67,
   "id": "d8125283",
   "metadata": {},
   "outputs": [
    {
     "data": {
      "text/plain": [
       "Rational{Int64}"
      ]
     },
     "execution_count": 67,
     "metadata": {},
     "output_type": "execute_result"
    }
   ],
   "source": [
    "a = 1//2\n",
    "typeof(a)"
   ]
  },
  {
   "cell_type": "code",
   "execution_count": 68,
   "id": "b52cec54",
   "metadata": {},
   "outputs": [
    {
     "data": {
      "text/plain": [
       "DataType"
      ]
     },
     "execution_count": 68,
     "metadata": {},
     "output_type": "execute_result"
    }
   ],
   "source": [
    "typeof(Int)"
   ]
  },
  {
   "cell_type": "code",
   "execution_count": 69,
   "id": "111a2d4c",
   "metadata": {},
   "outputs": [
    {
     "data": {
      "text/plain": [
       "DataType"
      ]
     },
     "execution_count": 69,
     "metadata": {},
     "output_type": "execute_result"
    }
   ],
   "source": [
    "typeof(Rational{Int})"
   ]
  },
  {
   "cell_type": "code",
   "execution_count": 70,
   "id": "4fd1d431",
   "metadata": {},
   "outputs": [
    {
     "data": {
      "text/plain": [
       "true"
      ]
     },
     "execution_count": 70,
     "metadata": {},
     "output_type": "execute_result"
    }
   ],
   "source": [
    "isa(1, Number)"
   ]
  },
  {
   "cell_type": "code",
   "execution_count": 71,
   "id": "411a585d",
   "metadata": {},
   "outputs": [
    {
     "data": {
      "text/plain": [
       "false"
      ]
     },
     "execution_count": 71,
     "metadata": {},
     "output_type": "execute_result"
    }
   ],
   "source": [
    "isa(1, Matrix)"
   ]
  },
  {
   "cell_type": "code",
   "execution_count": 72,
   "id": "c51745df",
   "metadata": {},
   "outputs": [
    {
     "data": {
      "text/plain": [
       "true"
      ]
     },
     "execution_count": 72,
     "metadata": {},
     "output_type": "execute_result"
    }
   ],
   "source": [
    "isa(1, Int)"
   ]
  },
  {
   "cell_type": "code",
   "execution_count": 73,
   "id": "b40990df",
   "metadata": {},
   "outputs": [
    {
     "data": {
      "text/plain": [
       "true"
      ]
     },
     "execution_count": 73,
     "metadata": {},
     "output_type": "execute_result"
    }
   ],
   "source": [
    "1 isa Number"
   ]
  },
  {
   "cell_type": "code",
   "execution_count": 74,
   "id": "56be85ea",
   "metadata": {},
   "outputs": [
    {
     "data": {
      "text/plain": [
       "Signed"
      ]
     },
     "execution_count": 74,
     "metadata": {},
     "output_type": "execute_result"
    }
   ],
   "source": [
    "supertype(Int32)"
   ]
  },
  {
   "cell_type": "code",
   "execution_count": 75,
   "id": "d0d2fe60",
   "metadata": {},
   "outputs": [
    {
     "data": {
      "text/plain": [
       "true"
      ]
     },
     "execution_count": 75,
     "metadata": {},
     "output_type": "execute_result"
    }
   ],
   "source": [
    "Int32 <: Integer"
   ]
  },
  {
   "cell_type": "code",
   "execution_count": 76,
   "id": "480f0ea4",
   "metadata": {},
   "outputs": [
    {
     "data": {
      "text/plain": [
       "false"
      ]
     },
     "execution_count": 76,
     "metadata": {},
     "output_type": "execute_result"
    }
   ],
   "source": [
    "Int32 <: AbstractFloat"
   ]
  },
  {
   "cell_type": "code",
   "execution_count": 77,
   "id": "1b0e6628",
   "metadata": {},
   "outputs": [
    {
     "data": {
      "text/plain": [
       "true"
      ]
     },
     "execution_count": 77,
     "metadata": {},
     "output_type": "execute_result"
    }
   ],
   "source": [
    "Int32 <: Real"
   ]
  },
  {
   "cell_type": "code",
   "execution_count": 78,
   "id": "4f5c1ae4",
   "metadata": {},
   "outputs": [
    {
     "data": {
      "text/plain": [
       "true"
      ]
     },
     "execution_count": 78,
     "metadata": {},
     "output_type": "execute_result"
    }
   ],
   "source": [
    "Int32 <: Signed"
   ]
  },
  {
   "cell_type": "code",
   "execution_count": 79,
   "id": "e4c3a4ed",
   "metadata": {},
   "outputs": [
    {
     "data": {
      "text/plain": [
       "AA(17, 32.0)"
      ]
     },
     "execution_count": 79,
     "metadata": {},
     "output_type": "execute_result"
    }
   ],
   "source": [
    "struct AA\n",
    "    a1::Int32\n",
    "    a2::Float64\n",
    "end\n",
    "a = AA(17, 32)"
   ]
  },
  {
   "cell_type": "code",
   "execution_count": 80,
   "id": "d965447a",
   "metadata": {},
   "outputs": [],
   "source": [
    "a;"
   ]
  },
  {
   "cell_type": "code",
   "execution_count": 81,
   "id": "8cdbed94",
   "metadata": {},
   "outputs": [
    {
     "data": {
      "text/plain": [
       "AA(17, 32.0)"
      ]
     },
     "execution_count": 81,
     "metadata": {},
     "output_type": "execute_result"
    }
   ],
   "source": [
    "a"
   ]
  },
  {
   "cell_type": "code",
   "execution_count": 82,
   "id": "cd67b071",
   "metadata": {},
   "outputs": [
    {
     "data": {
      "text/plain": [
       "3.8"
      ]
     },
     "execution_count": 82,
     "metadata": {},
     "output_type": "execute_result"
    }
   ],
   "source": [
    "b=3.8"
   ]
  },
  {
   "cell_type": "code",
   "execution_count": 83,
   "id": "9aca116b",
   "metadata": {},
   "outputs": [
    {
     "data": {
      "text/plain": [
       "3.8"
      ]
     },
     "execution_count": 83,
     "metadata": {},
     "output_type": "execute_result"
    }
   ],
   "source": [
    "a;b"
   ]
  },
  {
   "cell_type": "code",
   "execution_count": 84,
   "id": "4483c5eb",
   "metadata": {},
   "outputs": [
    {
     "data": {
      "text/plain": [
       "AA(17, 32.0)"
      ]
     },
     "execution_count": 84,
     "metadata": {},
     "output_type": "execute_result"
    }
   ],
   "source": [
    "a"
   ]
  },
  {
   "cell_type": "code",
   "execution_count": 85,
   "id": "504f0d10",
   "metadata": {},
   "outputs": [],
   "source": [
    "a;"
   ]
  },
  {
   "cell_type": "code",
   "execution_count": 86,
   "id": "14492c84",
   "metadata": {},
   "outputs": [],
   "source": [
    "a;nothing"
   ]
  },
  {
   "cell_type": "code",
   "execution_count": 87,
   "id": "f334c84b",
   "metadata": {},
   "outputs": [
    {
     "data": {
      "text/plain": [
       "AAA(1, 3.0)"
      ]
     },
     "execution_count": 87,
     "metadata": {},
     "output_type": "execute_result"
    }
   ],
   "source": [
    "struct AAA\n",
    "    a1::Int32\n",
    "    a2::Float64\n",
    "end\n",
    "a = AAA(1, 3)"
   ]
  },
  {
   "cell_type": "code",
   "execution_count": 88,
   "id": "c1eb22e8",
   "metadata": {},
   "outputs": [],
   "source": [
    "function Base.show(io::IO, a::AAA)\n",
    "    println(io, \"a1: \", a.a1, \" a2: \", a.a2)\n",
    "end"
   ]
  },
  {
   "cell_type": "code",
   "execution_count": 89,
   "id": "96282cc1",
   "metadata": {},
   "outputs": [
    {
     "data": {
      "text/plain": [
       "a1: 1 a2: 3.0\n"
      ]
     },
     "execution_count": 89,
     "metadata": {},
     "output_type": "execute_result"
    }
   ],
   "source": [
    "a"
   ]
  },
  {
   "cell_type": "code",
   "execution_count": 90,
   "id": "fe4049d3",
   "metadata": {},
   "outputs": [
    {
     "name": "stdout",
     "output_type": "stream",
     "text": [
      "a1: 1 a2: 3.0\n"
     ]
    }
   ],
   "source": [
    "print(a)"
   ]
  },
  {
   "cell_type": "code",
   "execution_count": 91,
   "id": "e6932075",
   "metadata": {},
   "outputs": [
    {
     "data": {
      "text/plain": [
       "\"a1: 1 a2: 3.0\\n\""
      ]
     },
     "execution_count": 91,
     "metadata": {},
     "output_type": "execute_result"
    }
   ],
   "source": [
    "string(a)"
   ]
  },
  {
   "cell_type": "code",
   "execution_count": null,
   "id": "8a5eccf2",
   "metadata": {},
   "outputs": [],
   "source": []
  }
 ],
 "metadata": {
  "kernelspec": {
   "display_name": "Julia 1.6.7",
   "language": "julia",
   "name": "julia-1.6"
  },
  "language_info": {
   "file_extension": ".jl",
   "mimetype": "application/julia",
   "name": "julia",
   "version": "1.6.7"
  }
 },
 "nbformat": 4,
 "nbformat_minor": 5
}
